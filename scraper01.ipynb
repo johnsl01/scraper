{
  "nbformat": 4,
  "nbformat_minor": 0,
  "metadata": {
    "colab": {
      "name": "scraper01.ipynb",
      "provenance": [],
      "authorship_tag": "ABX9TyOIS+dpGOYRy3jtnDFNR4/n",
      "include_colab_link": true
    },
    "kernelspec": {
      "name": "python3",
      "display_name": "Python 3"
    }
  },
  "cells": [
    {
      "cell_type": "markdown",
      "metadata": {
        "id": "view-in-github",
        "colab_type": "text"
      },
      "source": [
        "<a href=\"https://colab.research.google.com/github/johnsl01/scraper/blob/master/scraper01.ipynb\" target=\"_parent\"><img src=\"https://colab.research.google.com/assets/colab-badge.svg\" alt=\"Open In Colab\"/></a>"
      ]
    },
    {
      "cell_type": "code",
      "metadata": {
        "id": "r-5CeBUWbga8",
        "colab_type": "code",
        "colab": {
          "base_uri": "https://localhost:8080/",
          "height": 34
        },
        "outputId": "546a95c3-9967-4014-9f75-a8b8177b4443"
      },
      "source": [
        "# Imports \n",
        "import requests\n",
        "from bs4 import BeautifulSoup\n",
        "print (\"Imports\")"
      ],
      "execution_count": 2,
      "outputs": [
        {
          "output_type": "stream",
          "text": [
            "Imports\n"
          ],
          "name": "stdout"
        }
      ]
    }
  ]
}