{
  "nbformat": 4,
  "nbformat_minor": 0,
  "metadata": {
    "colab": {
      "name": "scraper01.ipynb",
      "provenance": [],
      "authorship_tag": "ABX9TyOy/aF7NV7ilzlcCGrTX5yR",
      "include_colab_link": true
    },
    "kernelspec": {
      "name": "python3",
      "display_name": "Python 3"
    }
  },
  "cells": [
    {
      "cell_type": "markdown",
      "metadata": {
        "id": "view-in-github",
        "colab_type": "text"
      },
      "source": [
        "<a href=\"https://colab.research.google.com/github/johnsl01/scraper/blob/master/scraper01.ipynb\" target=\"_parent\"><img src=\"https://colab.research.google.com/assets/colab-badge.svg\" alt=\"Open In Colab\"/></a>"
      ]
    },
    {
      "cell_type": "code",
      "metadata": {
        "id": "r-5CeBUWbga8",
        "colab_type": "code",
        "outputId": "7d4eba25-446c-47cb-a30b-0cbbe9d2bf3f",
        "colab": {
          "base_uri": "https://localhost:8080/",
          "height": 34
        }
      },
      "source": [
        "# Imports \n",
        "import requests\n",
        "from bs4 import BeautifulSoup\n",
        "import json\n",
        "print (\"Imports\")"
      ],
      "execution_count": 29,
      "outputs": [
        {
          "output_type": "stream",
          "text": [
            "Imports\n"
          ],
          "name": "stdout"
        }
      ]
    },
    {
      "cell_type": "code",
      "metadata": {
        "id": "lmEIrjBmhYfN",
        "colab_type": "code",
        "colab": {
          "base_uri": "https://localhost:8080/",
          "height": 34
        },
        "outputId": "1ddd4486-1679-4910-a154-4531ff71280d"
      },
      "source": [
        "# OK simple scraping target\n",
        "# I want to pull the IMDB film rating from the film's title page\n",
        "\n",
        "# which turned out to have an interesting niggle.\n",
        "\n",
        "# first catch your hare\n",
        "# i.e. get the page \n",
        "\n",
        "url = \"https://www.imdb.com/title/tt8806524\" # random film \n",
        "page = requests.get(url)\n",
        "print (page)\n"
      ],
      "execution_count": 18,
      "outputs": [
        {
          "output_type": "stream",
          "text": [
            "<Response [200]>\n"
          ],
          "name": "stdout"
        }
      ]
    },
    {
      "cell_type": "code",
      "metadata": {
        "id": "qmxd48N1jdf8",
        "colab_type": "code",
        "colab": {
          "base_uri": "https://localhost:8080/",
          "height": 85
        },
        "outputId": "fa29a2bc-38cc-438b-8ec6-7ce53f1a93ec"
      },
      "source": [
        "# look at what we got\n",
        "print (\"page.status_code : \",page.status_code)\n",
        "print (\"page.encoding : \", page.encoding)\n",
        "\n",
        "# note:  prints of the large content are commented out\n",
        "# the approach is get it - print it - look at it\n",
        "#  - work out which part you want to get at \n",
        "#  - rinse and repeat until you get down to the bit you want.\n",
        "\n",
        "# print (page.text)\n",
        "\n",
        "# from looking at the page :\n",
        "# the stuff we want is in a script and endcoded as json - complex ! \n",
        "\n",
        "# use beautiful soup to pull out all the scripts \n",
        "pageSoup = BeautifulSoup(page.text)\n",
        "\n",
        "# would like to use a qualifier to pick out the particular script \n",
        "# but beautifulsoup is not as good with json as with html \n",
        "# though I believe that there is a way to get at it \n",
        "# but mixed html with json encoded data within a <script> tag does get messy\n",
        "scripts = pageSoup.find_all('script')\n",
        "\n",
        "print (\"type(scripts) : \", type(scripts))\n",
        "\n",
        "# most of the scripts are javascript\n",
        "# but one included the json encoded content \n",
        "# there should be a better way, but just pull it out by the count \n",
        "# seems easy - would be better to identify it by content type in case the \n",
        "# page structure is modified \n",
        "# - or in case it is different for different type of things (e.g a film vs a TV series episode)\n",
        "\n",
        "# the below 'commented out' code was used to print and count the scripts to \n",
        "# identify the one we want - which was already saw when we looked at the \n",
        "# html content above.\n",
        "'''\n",
        "scriptCount = 0 \n",
        "for script in scripts :\n",
        "  if scriptCount == 11 :\n",
        "    jsonContent = script.text\n",
        "  # end if\n",
        "  #print (scriptCount, script.contents[0])\n",
        "  scriptCount += 1\n",
        "# end for\n",
        "'''\n",
        "\n",
        "# once we know where the content we want is \n",
        "# plucking it out directly makes more sense that the for loop\n",
        "\n",
        "# but identifying the correct script programatically \n",
        "# would be much more robust\n",
        "\n",
        "# direct indexing\n",
        "jsonContent = scripts[11].text\n",
        "\n",
        "print (\"type(jsonContent) : \",  type(jsonContent))\n",
        "# print (jsonContent)"
      ],
      "execution_count": 44,
      "outputs": [
        {
          "output_type": "stream",
          "text": [
            "page.status_code :  200\n",
            "page.encoding :  UTF-8\n",
            "type(scripts) :  <class 'bs4.element.ResultSet'>\n",
            "type(jsonContent) :  <class 'str'>\n"
          ],
          "name": "stdout"
        }
      ]
    },
    {
      "cell_type": "code",
      "metadata": {
        "id": "ah9A13hqscHP",
        "colab_type": "code",
        "colab": {
          "base_uri": "https://localhost:8080/",
          "height": 34
        },
        "outputId": "e51701f9-0558-472a-ecde-f141f656efc3"
      },
      "source": [
        "# so we have a clean string with json encoded content\n",
        "\n",
        "# print (jsonContent)\n",
        "\n",
        "# use the python json lib to load the contents into a dict\n",
        "# and pull put the bit we want \n",
        "# which we identified by printing the json and looking for the correct tags\n",
        "\n",
        "jsonDict = json.loads(jsonContent)\n",
        "\n",
        "print ('jsonDict[\"aggregateRating\"][\"ratingValue\"] : ', jsonDict[\"aggregateRating\"][\"ratingValue\"])"
      ],
      "execution_count": 49,
      "outputs": [
        {
          "output_type": "stream",
          "text": [
            "jsonDict[\"aggregateRating\"][\"ratingValue\"] :  8.5\n"
          ],
          "name": "stdout"
        }
      ]
    },
    {
      "cell_type": "code",
      "metadata": {
        "id": "VHe4TF-YzAVk",
        "colab_type": "code",
        "colab": {}
      },
      "source": [
        "# since we have all the data content relating to the 'film' we \n",
        "# may as well explore the json lib a bit more and pull out a few repeating objects \n",
        "# such as the actors names:\n"
      ],
      "execution_count": 0,
      "outputs": []
    }
  ]
}